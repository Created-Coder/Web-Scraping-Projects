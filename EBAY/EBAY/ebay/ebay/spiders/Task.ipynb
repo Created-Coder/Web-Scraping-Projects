{
 "cells": [
  {
   "cell_type": "markdown",
   "id": "69116536",
   "metadata": {},
   "source": [
    "# Task"
   ]
  },
  {
   "cell_type": "markdown",
   "id": "81713cdc",
   "metadata": {},
   "source": [
    "Problem: Write a function that takes in a string as input and returns a list of the unique letters used in the string. Punctuation should not be counted as a unique letter. For our purposes you may consider the following characters as punctuation: .,;:?!- Your list should return all letters as lower case and sorted. So for example if the input is ' Happy days are here again!' your function should return the list ['a''d','e','g','h','i','n','p','r','s','y']"
   ]
  },
  {
   "cell_type": "markdown",
   "id": "d4549ff7",
   "metadata": {},
   "source": [
    "# Segmenting the task"
   ]
  },
  {
   "cell_type": "markdown",
   "id": "159d2d55",
   "metadata": {},
   "source": [
    "INPUT: Write a function that takes in a string as input and returns a list of the unique letters used in the string\n",
    "\n",
    "OUTPUT:  Your list should return all letters as lower case and sorted\n",
    "\n",
    "NOTE: Punctuation should not be counted as a unique letter.\n",
    "\n",
    "EXAMPLE: if the input is ' Happy days are here again!' your function should return the list ['a''d','e','g','h','i','n','p','r','s','y']"
   ]
  },
  {
   "cell_type": "markdown",
   "id": "5e21a82c",
   "metadata": {},
   "source": [
    "# Performing the task"
   ]
  },
  {
   "cell_type": "code",
   "execution_count": 100,
   "id": "56623dac",
   "metadata": {},
   "outputs": [],
   "source": [
    "# Making a function\n",
    "\n",
    "def task(input_str):\n",
    "    input_list = [] # creating blank list, we will append our required letters here later\n",
    "    punctuations = ': .,;:?!-' # Punctuations which is defined in task\n",
    "\n",
    "    for i in input_str: # looping on string which we are taking as a argument in our function\n",
    "        if i not in punctuations: # Adding condition to remove the punctions if any exists in our string\n",
    "            if i not in input_list: # Adding condition to make sure list don't have duplicates characters\n",
    "                input_list.append(i.lower()) # Appending characters of string after making them lowercase\n",
    "    \n",
    "\n",
    "    input_list.sort() # After removing punctuation if exists, we are sorting our list \n",
    "    return input_list # In the end, we are returning our list.    \n",
    "\n"
   ]
  },
  {
   "cell_type": "code",
   "execution_count": 103,
   "id": "589532be",
   "metadata": {},
   "outputs": [
    {
     "name": "stdout",
     "output_type": "stream",
     "text": [
      "Enter String :  Happy days are here again!\n"
     ]
    },
    {
     "data": {
      "text/plain": [
       "['a', 'd', 'e', 'g', 'h', 'i', 'n', 'p', 'r', 's', 'y']"
      ]
     },
     "execution_count": 103,
     "metadata": {},
     "output_type": "execute_result"
    }
   ],
   "source": [
    "task(input(\"Enter String : \")) # Calling the function, \n",
    "                               # our function getting one string value as a argument so we are passing it \n",
    "                               # after getting value as input "
   ]
  },
  {
   "cell_type": "code",
   "execution_count": null,
   "id": "efa9eb1f",
   "metadata": {},
   "outputs": [],
   "source": [
    "\n"
   ]
  }
 ],
 "metadata": {
  "kernelspec": {
   "display_name": "Python 3",
   "language": "python",
   "name": "python3"
  },
  "language_info": {
   "codemirror_mode": {
    "name": "ipython",
    "version": 3
   },
   "file_extension": ".py",
   "mimetype": "text/x-python",
   "name": "python",
   "nbconvert_exporter": "python",
   "pygments_lexer": "ipython3",
   "version": "3.8.8"
  }
 },
 "nbformat": 4,
 "nbformat_minor": 5
}
