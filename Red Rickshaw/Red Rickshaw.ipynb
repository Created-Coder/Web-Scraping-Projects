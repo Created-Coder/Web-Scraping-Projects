{
 "cells": [
  {
   "cell_type": "code",
   "execution_count": null,
   "metadata": {},
   "outputs": [],
   "source": [
    "from selenium import webdriver\n",
    "import time\n",
    "from selenium.webdriver.common.by import By\n",
    "from selenium.webdriver.support.ui import WebDriverWait\n",
    "from selenium.webdriver.support import expected_conditions as EC\n",
    "import requests\n",
    "import shutil\n",
    "from csv import writer\n",
    "import urllib.request"
   ]
  },
  {
   "cell_type": "code",
   "execution_count": null,
   "metadata": {},
   "outputs": [],
   "source": [
    "links_list = []\n",
    "driver = webdriver.Chrome(executable_path='C:/Users/92324/Downloads/chromedriver_win32 (4)/chromedriver.exe')\n",
    "driver.get(\"https://www.redrickshaw.com/collections/meat\")\n",
    "time.sleep(10)\n",
    "links = driver.find_elements_by_xpath(\"//div[@class='rr-custom-product-grid']/div/a\")\n",
    "\n",
    "for i in links:\n",
    "    print(i.get_attribute(\"href\"))\n",
    "    links_list.append(i.get_attribute(\"href\"))"
   ]
  },
  {
   "cell_type": "code",
   "execution_count": null,
   "metadata": {},
   "outputs": [],
   "source": [
    "print(len(links_list))"
   ]
  },
  {
   "cell_type": "code",
   "execution_count": null,
   "metadata": {},
   "outputs": [],
   "source": [
    "for count,i in enumerate(links_list):\n",
    "    try:\n",
    "        driver = webdriver.Chrome(executable_path='C:/Users/92324/Downloads/chromedriver_win32 (4)/chromedriver.exe')\n",
    "        driver.get(i)\n",
    "        time.sleep(5)\n",
    "\n",
    "        product_name = driver.find_element_by_xpath(\"//h1[@class='product-name']\").text\n",
    "    #     print(product_name)\n",
    "\n",
    "        description = driver.find_element_by_xpath(\"//div[@id='Tabproduct_tab_title_1']\").text\n",
    "    #     print(description)\n",
    "\n",
    "        price = driver.find_element_by_xpath(\"//span[@class='special-price rr-special-price']\").text\n",
    "    #     print(price)\n",
    "\n",
    "        src = driver.find_element_by_xpath(\"//div[@class='col-sm-5 col-md-4']//img\").get_attribute(\"src\")\n",
    "        urllib.request.urlretrieve(src, \"F:/Red RickShaw/\" + product_name + \".jpg\")\n",
    "\n",
    "        fields=[product_name,price,description]\n",
    "\n",
    "        with open(\"F:/Red RickShaw/Meat.csv\", 'a+', newline='', encoding='utf-8-sig') as f:\n",
    "            writer_data = writer(f)\n",
    "            writer_data.writerow(fields)\n",
    "\n",
    "        print(count)\n",
    "\n",
    "    #     print(\"data saved successfully\")\n",
    "\n",
    "        driver.close()\n",
    "        \n",
    "    except:\n",
    "        print(\"Url : \" + i)\n",
    "        with open(\"F:/Red RickShaw//Bhand.csv\", 'a+', newline='') as write_obj:\n",
    "            # Create a writer object from csv module\n",
    "            csv_writer = writer(write_obj)\n",
    "            # Add contents of list as last row in the csv file\n",
    "            csv_writer.writerow([i])\n",
    "            \n",
    "        continue\n",
    "        continue\n"
   ]
  },
  {
   "cell_type": "code",
   "execution_count": null,
   "metadata": {},
   "outputs": [],
   "source": [
    "import csv\n",
    "with open('F:/Red RickShaw//Bhand.csv', 'r') as file:\n",
    "    reader = csv.reader(file)\n",
    "    for count, row in enumerate(reader):\n",
    "        for i in row:\n",
    "            try:\n",
    "                driver = webdriver.Chrome(executable_path='C:/Users/92324/Downloads/chromedriver_win32 (4)/chromedriver.exe')\n",
    "                driver.get(i)\n",
    "                time.sleep(5)\n",
    "\n",
    "                product_name = driver.find_element_by_xpath(\"//h1[@class='product-name']\").text  \n",
    "    #             print(product_name)\n",
    "\n",
    "                description = driver.find_element_by_xpath(\"//div[@id='Tabproduct_tab_title_1']\").text\n",
    "\n",
    "                price = driver.find_element_by_xpath(\"//span[@class='special-price rr-special-price']\").text\n",
    "                #     print(price)\n",
    "\n",
    "                src = driver.find_element_by_xpath(\"//div[@class='col-sm-5 col-md-4']//img\").get_attribute(\"src\")\n",
    "                urllib.request.urlretrieve(src, \"F:/Red RickShaw/\" + str(count) + \".jpg\")\n",
    "\n",
    "                fields=[product_name,price,description]\n",
    "\n",
    "                with open(\"F:/Red RickShaw/Bhand_Data.csv\", 'a+', newline='', encoding='utf-8-sig') as f:\n",
    "                    writer_data = writer(f)\n",
    "                    writer_data.writerow(fields)\n",
    "\n",
    "\n",
    "                driver.close()\n",
    "            \n",
    "            except:\n",
    "                print(i)\n",
    "                continue\n",
    "                continue"
   ]
  },
  {
   "cell_type": "code",
   "execution_count": null,
   "metadata": {},
   "outputs": [],
   "source": []
  }
 ],
 "metadata": {
  "kernelspec": {
   "display_name": "Python 3",
   "language": "python",
   "name": "python3"
  },
  "language_info": {
   "codemirror_mode": {
    "name": "ipython",
    "version": 3
   },
   "file_extension": ".py",
   "mimetype": "text/x-python",
   "name": "python",
   "nbconvert_exporter": "python",
   "pygments_lexer": "ipython3",
   "version": "3.7.6"
  }
 },
 "nbformat": 4,
 "nbformat_minor": 4
}
