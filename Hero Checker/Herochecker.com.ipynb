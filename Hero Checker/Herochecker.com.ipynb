{
 "cells": [
  {
   "cell_type": "code",
   "execution_count": 1,
   "metadata": {},
   "outputs": [],
   "source": [
    "from selenium import webdriver\n",
    "import time\n",
    "from selenium.webdriver.common.by import By\n",
    "from selenium.webdriver.support.ui import WebDriverWait\n",
    "from selenium.webdriver.support import expected_conditions as EC\n",
    "import requests\n",
    "import shutil\n",
    "from csv import writer\n",
    "import urllib.request\n",
    "import csv"
   ]
  },
  {
   "cell_type": "code",
   "execution_count": 2,
   "metadata": {},
   "outputs": [],
   "source": [
    "links_list = []"
   ]
  },
  {
   "cell_type": "code",
   "execution_count": 30,
   "metadata": {},
   "outputs": [
    {
     "name": "stdout",
     "output_type": "stream",
     "text": [
      "HTTP Error 400: Bad Request\n",
      "HTTP Error 400: Bad Request\n"
     ]
    }
   ],
   "source": [
    "driver = webdriver.Chrome(executable_path='C:/Users/92324/Downloads/chromedriver_win32 (4)/chromedriver.exe')\n",
    "driver.get(\"https://www.herochecker.com/menu-asian-groceries\")\n",
    "# time.sleep(10)\n",
    "\n",
    "names = driver.find_elements_by_xpath(\"//div[@class='menu-3-cat bottom20']//div[@class='col-md-7']//p[@class='bold']\")\n",
    "description = driver.find_elements_by_xpath(\"//div[@class='menu-3-cat bottom20']//div[@class='col-md-7']//p[@class='small food-description read-more']\")\n",
    "prices = driver.find_elements_by_xpath(\"//div[@class='menu-3-cat bottom20']//div[@class='col-md-3 center']//p[@class='bold']\")\n",
    "images = driver.find_elements_by_xpath(\"//div[@class='menu-3-cat bottom20']//div[@class='col-md-2']//img\")\n",
    "\n",
    "\n",
    "for i in range(len(names)):\n",
    "    try:\n",
    "        cat = names[i].find_element_by_xpath(\"../../../../h2\").get_attribute(\"innerHTML\")\n",
    "        name = names[i].get_attribute(\"innerHTML\")\n",
    "        \n",
    "        if \"/\" in name:\n",
    "            name = name.replace(\"/\",\" \")\n",
    "            \n",
    "        desc = description[i].get_attribute(\"innerHTML\")\n",
    "        price = prices[i].get_attribute(\"innerHTML\")       \n",
    "        brand_name = name.split()\n",
    "        brand_name = brand_name[0]\n",
    "        src = images[i].get_attribute(\"src\")\n",
    "        \n",
    "        image_url = \"https://www.justgrocerys.com/sampleImages/\" + name + \".jpg\"\n",
    "        \n",
    "        fields=[cat,name,brand_name,price,desc,image_url]\n",
    "\n",
    "        with open(\"G:/Hero Checker/Data.csv\", 'a+', newline='', encoding='utf-8-sig') as f:\n",
    "            writer_data = writer(f)\n",
    "            writer_data.writerow(fields)\n",
    "            \n",
    "        urllib.request.urlretrieve(src, \"G:/Hero Checker/\" + name + \".jpg\")\n",
    "\n",
    "\n",
    "    except Exception as e:\n",
    "        print(e)\n",
    "    \n",
    "    \n",
    "driver.close()\n"
   ]
  },
  {
   "cell_type": "code",
   "execution_count": null,
   "metadata": {},
   "outputs": [],
   "source": [
    "//div[@class='menu-3-cat bottom20']//div[@class='col-md-7']//p[@class='bold']  Name"
   ]
  },
  {
   "cell_type": "code",
   "execution_count": null,
   "metadata": {},
   "outputs": [],
   "source": []
  }
 ],
 "metadata": {
  "kernelspec": {
   "display_name": "Python 3",
   "language": "python",
   "name": "python3"
  },
  "language_info": {
   "codemirror_mode": {
    "name": "ipython",
    "version": 3
   },
   "file_extension": ".py",
   "mimetype": "text/x-python",
   "name": "python",
   "nbconvert_exporter": "python",
   "pygments_lexer": "ipython3",
   "version": "3.7.6"
  }
 },
 "nbformat": 4,
 "nbformat_minor": 4
}
